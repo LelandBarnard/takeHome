{
 "cells": [
  {
   "cell_type": "markdown",
   "metadata": {},
   "source": [
    "# Knotch Data Exploration Assignment\n",
    "\n",
    "### Leland Barnard\n",
    "### 8 May 2017"
   ]
  },
  {
   "cell_type": "markdown",
   "metadata": {},
   "source": [
    "## Preliminaries\n",
    "### In this section, I'll prepare the notebook and take a look at the data.  The actual analysis will begin in Section 1."
   ]
  },
  {
   "cell_type": "code",
   "execution_count": 47,
   "metadata": {
    "collapsed": true
   },
   "outputs": [],
   "source": [
    "import pandas as pd\n",
    "import sqlite3\n",
    "import matplotlib.pyplot as plt\n",
    "import matplotlib\n",
    "import math\n",
    "import numpy as np\n",
    "matplotlib.style.use('ggplot')\n",
    "%matplotlib inline\n",
    "matplotlib.rcParams['savefig.dpi'] = 144"
   ]
  },
  {
   "cell_type": "code",
   "execution_count": 2,
   "metadata": {
    "collapsed": false
   },
   "outputs": [
    {
     "name": "stderr",
     "output_type": "stream",
     "text": [
      "/opt/conda/lib/python2.7/site-packages/IPython/config.py:13: ShimWarning: The `IPython.config` package has been deprecated since IPython 4.0. You should import from traitlets.config instead.\n",
      "  \"You should import from traitlets.config instead.\", ShimWarning)\n",
      "/opt/conda/lib/python2.7/site-packages/IPython/utils/traitlets.py:5: UserWarning: IPython.utils.traitlets has moved to a top-level traitlets package.\n",
      "  warn(\"IPython.utils.traitlets has moved to a top-level traitlets package.\")\n"
     ]
    }
   ],
   "source": [
    "%load_ext sql"
   ]
  },
  {
   "cell_type": "markdown",
   "metadata": {},
   "source": [
    "I'll first load the csv into a pandas DataFrame and take a look at the size of the data set and the numbers of missing values for each column.\n",
    "\n",
    "\n"
   ]
  },
  {
   "cell_type": "code",
   "execution_count": 3,
   "metadata": {
    "collapsed": false
   },
   "outputs": [],
   "source": [
    "knotch_df = pd.read_csv('knotch_ds_takehome.csv',encoding='utf-8')"
   ]
  },
  {
   "cell_type": "code",
   "execution_count": 5,
   "metadata": {
    "collapsed": false
   },
   "outputs": [
    {
     "name": "stdout",
     "output_type": "stream",
     "text": [
      "<class 'pandas.core.frame.DataFrame'>\n",
      "RangeIndex: 5870299 entries, 0 to 5870298\n",
      "Data columns (total 13 columns):\n",
      "user_id             object\n",
      "survey_id           object\n",
      "view_id             object\n",
      "ts                  object\n",
      "city                object\n",
      "country             object\n",
      "device              object\n",
      "os                  object\n",
      "browser             object\n",
      "time_on_page        float64\n",
      "time_to_interact    float64\n",
      "interaction_type    object\n",
      "response            float64\n",
      "dtypes: float64(3), object(10)\n",
      "memory usage: 5.9 GB\n"
     ]
    }
   ],
   "source": [
    "knotch_df.info(memory_usage = 'deep')"
   ]
  },
  {
   "cell_type": "code",
   "execution_count": 7,
   "metadata": {
    "collapsed": false
   },
   "outputs": [
    {
     "data": {
      "text/plain": [
       "user_id                   0\n",
       "survey_id                 0\n",
       "view_id                   0\n",
       "ts                        0\n",
       "city                1214396\n",
       "country                2214\n",
       "device                 9623\n",
       "os                    20280\n",
       "browser               43441\n",
       "time_on_page        3693095\n",
       "time_to_interact    5779974\n",
       "interaction_type    5779974\n",
       "response            5853622\n",
       "dtype: int64"
      ]
     },
     "execution_count": 7,
     "metadata": {},
     "output_type": "execute_result"
    }
   ],
   "source": [
    "knotch_df.isnull().sum()"
   ]
  },
  {
   "cell_type": "markdown",
   "metadata": {},
   "source": [
    "I also want to take a look at the data, so I'll sample 5 observations at random."
   ]
  },
  {
   "cell_type": "code",
   "execution_count": 8,
   "metadata": {
    "collapsed": false
   },
   "outputs": [
    {
     "data": {
      "text/html": [
       "<div>\n",
       "<table border=\"1\" class=\"dataframe\">\n",
       "  <thead>\n",
       "    <tr style=\"text-align: right;\">\n",
       "      <th></th>\n",
       "      <th>user_id</th>\n",
       "      <th>survey_id</th>\n",
       "      <th>view_id</th>\n",
       "      <th>ts</th>\n",
       "      <th>city</th>\n",
       "      <th>country</th>\n",
       "      <th>device</th>\n",
       "      <th>os</th>\n",
       "      <th>browser</th>\n",
       "      <th>time_on_page</th>\n",
       "      <th>time_to_interact</th>\n",
       "      <th>interaction_type</th>\n",
       "      <th>response</th>\n",
       "    </tr>\n",
       "  </thead>\n",
       "  <tbody>\n",
       "    <tr>\n",
       "      <th>5127654</th>\n",
       "      <td>5832cdb856349f033bc00fc6</td>\n",
       "      <td>580f8ed8bbe4ee292d370280</td>\n",
       "      <td>5832cdca92855778471c2b52</td>\n",
       "      <td>2016-11-21 10:34:50.154</td>\n",
       "      <td>Union City</td>\n",
       "      <td>US</td>\n",
       "      <td>desktop</td>\n",
       "      <td>Windows</td>\n",
       "      <td>Firefox</td>\n",
       "      <td>3.605</td>\n",
       "      <td>NaN</td>\n",
       "      <td>NaN</td>\n",
       "      <td>NaN</td>\n",
       "    </tr>\n",
       "    <tr>\n",
       "      <th>507497</th>\n",
       "      <td>576e5b4b8c915d641815a8b1</td>\n",
       "      <td>576c689af2d255082991e74f</td>\n",
       "      <td>5772320ffcbc952529c2b2a0</td>\n",
       "      <td>2016-06-28 08:15:11.045</td>\n",
       "      <td>Florianópolis</td>\n",
       "      <td>BR</td>\n",
       "      <td>desktop</td>\n",
       "      <td>Windows</td>\n",
       "      <td>Chrome</td>\n",
       "      <td>301.194</td>\n",
       "      <td>NaN</td>\n",
       "      <td>NaN</td>\n",
       "      <td>NaN</td>\n",
       "    </tr>\n",
       "    <tr>\n",
       "      <th>5757771</th>\n",
       "      <td>58d1c9d8df6d43ef73e8a565</td>\n",
       "      <td>58c9b16164b20c43664c8f3e</td>\n",
       "      <td>58d1c9d8b364c93938f8db69</td>\n",
       "      <td>2017-03-22 00:48:24.448</td>\n",
       "      <td>Edgewater</td>\n",
       "      <td>US</td>\n",
       "      <td>tablet</td>\n",
       "      <td>iOS</td>\n",
       "      <td>Facebook</td>\n",
       "      <td>NaN</td>\n",
       "      <td>NaN</td>\n",
       "      <td>NaN</td>\n",
       "      <td>NaN</td>\n",
       "    </tr>\n",
       "    <tr>\n",
       "      <th>1235593</th>\n",
       "      <td>57883a536b8b9ce53756ec80</td>\n",
       "      <td>577ce28db0e2da617de1bb95</td>\n",
       "      <td>57883a53d6b4639d622c0f04</td>\n",
       "      <td>2016-07-15 01:20:19.798</td>\n",
       "      <td>Jinan</td>\n",
       "      <td>CN</td>\n",
       "      <td>desktop</td>\n",
       "      <td>Windows</td>\n",
       "      <td>IE</td>\n",
       "      <td>NaN</td>\n",
       "      <td>NaN</td>\n",
       "      <td>NaN</td>\n",
       "      <td>NaN</td>\n",
       "    </tr>\n",
       "    <tr>\n",
       "      <th>1131730</th>\n",
       "      <td>57856add9c5e2b8c3a91a673</td>\n",
       "      <td>577ce28db0e2da617de1bb95</td>\n",
       "      <td>57856b06fcbc952529c3cf27</td>\n",
       "      <td>2016-07-12 22:11:18.115</td>\n",
       "      <td>NaN</td>\n",
       "      <td>CN</td>\n",
       "      <td>mobile</td>\n",
       "      <td>Android</td>\n",
       "      <td>Chrome</td>\n",
       "      <td>13.675</td>\n",
       "      <td>NaN</td>\n",
       "      <td>NaN</td>\n",
       "      <td>NaN</td>\n",
       "    </tr>\n",
       "  </tbody>\n",
       "</table>\n",
       "</div>"
      ],
      "text/plain": [
       "                          user_id                 survey_id  \\\n",
       "5127654  5832cdb856349f033bc00fc6  580f8ed8bbe4ee292d370280   \n",
       "507497   576e5b4b8c915d641815a8b1  576c689af2d255082991e74f   \n",
       "5757771  58d1c9d8df6d43ef73e8a565  58c9b16164b20c43664c8f3e   \n",
       "1235593  57883a536b8b9ce53756ec80  577ce28db0e2da617de1bb95   \n",
       "1131730  57856add9c5e2b8c3a91a673  577ce28db0e2da617de1bb95   \n",
       "\n",
       "                          view_id                       ts           city  \\\n",
       "5127654  5832cdca92855778471c2b52  2016-11-21 10:34:50.154     Union City   \n",
       "507497   5772320ffcbc952529c2b2a0  2016-06-28 08:15:11.045  Florianópolis   \n",
       "5757771  58d1c9d8b364c93938f8db69  2017-03-22 00:48:24.448      Edgewater   \n",
       "1235593  57883a53d6b4639d622c0f04  2016-07-15 01:20:19.798          Jinan   \n",
       "1131730  57856b06fcbc952529c3cf27  2016-07-12 22:11:18.115            NaN   \n",
       "\n",
       "        country   device       os   browser  time_on_page  time_to_interact  \\\n",
       "5127654      US  desktop  Windows   Firefox         3.605               NaN   \n",
       "507497       BR  desktop  Windows    Chrome       301.194               NaN   \n",
       "5757771      US   tablet      iOS  Facebook           NaN               NaN   \n",
       "1235593      CN  desktop  Windows        IE           NaN               NaN   \n",
       "1131730      CN   mobile  Android    Chrome        13.675               NaN   \n",
       "\n",
       "        interaction_type  response  \n",
       "5127654              NaN       NaN  \n",
       "507497               NaN       NaN  \n",
       "5757771              NaN       NaN  \n",
       "1235593              NaN       NaN  \n",
       "1131730              NaN       NaN  "
      ]
     },
     "execution_count": 8,
     "metadata": {},
     "output_type": "execute_result"
    }
   ],
   "source": [
    "knotch_df.sample(5)"
   ]
  },
  {
   "cell_type": "markdown",
   "metadata": {},
   "source": [
    "I'm going to want to work with the data as an SQL database, so I'll create a table from the DataFrame."
   ]
  },
  {
   "cell_type": "code",
   "execution_count": 9,
   "metadata": {
    "collapsed": false
   },
   "outputs": [],
   "source": [
    "%sql sqlite:///testdb.sqlite\n",
    "conn = sqlite3.connect('testdb.sqlite')\n",
    "knotch_df.to_sql('knotch_raw', conn, if_exists='replace',index=False)"
   ]
  },
  {
   "cell_type": "code",
   "execution_count": 32,
   "metadata": {
    "collapsed": true
   },
   "outputs": [],
   "source": [
    "del knotch_df"
   ]
  },
  {
   "cell_type": "markdown",
   "metadata": {},
   "source": [
    "Before proceeding, I want to check a few things:\n",
    "* There are columns for durations of time, which should be strictly greater than zero, so any values less than zero might indicate a bad row.\n",
    "* From my undestanding of the data, the view_id should be a unique key, but I want to check to see if that is true."
   ]
  },
  {
   "cell_type": "code",
   "execution_count": 11,
   "metadata": {
    "collapsed": false
   },
   "outputs": [
    {
     "name": "stdout",
     "output_type": "stream",
     "text": [
      "Done.\n"
     ]
    },
    {
     "data": {
      "text/html": [
       "<table>\n",
       "    <tr>\n",
       "        <th>min_time_on_page</th>\n",
       "        <th>max_time_on_page</th>\n",
       "        <th>AVG_time_on_page</th>\n",
       "        <th>min_time_to_interact</th>\n",
       "        <th>max_time_to_interact</th>\n",
       "        <th>AVG_time_to_interact</th>\n",
       "        <th>min_response</th>\n",
       "        <th>max_response</th>\n",
       "        <th>AVG_response</th>\n",
       "    </tr>\n",
       "    <tr>\n",
       "        <td>0.0</td>\n",
       "        <td>269595998.724</td>\n",
       "        <td>684.791767521</td>\n",
       "        <td>-7042.852</td>\n",
       "        <td>68976.676</td>\n",
       "        <td>153.441602247</td>\n",
       "        <td>-5.0</td>\n",
       "        <td>5.0</td>\n",
       "        <td>1.05600527673</td>\n",
       "    </tr>\n",
       "</table>"
      ],
      "text/plain": [
       "[(0.0, 269595998.72400004, 684.7917675208215, -7042.852, 68976.67599999999, 153.44160224744016, -5.0, 5.0, 1.0560052767284285)]"
      ]
     },
     "execution_count": 11,
     "metadata": {},
     "output_type": "execute_result"
    }
   ],
   "source": [
    "%%sql SELECT MIN(time_on_page) AS min_time_on_page, MAX(time_on_page) AS max_time_on_page, AVG(time_on_page) AS AVG_time_on_page,\n",
    "            MIN(time_to_interact) AS min_time_to_interact, MAX(time_to_interact) AS max_time_to_interact, AVG(time_to_interact) AS AVG_time_to_interact,\n",
    "            MIN(response) AS min_response, MAX(response) AS max_response, AVG(response) AS AVG_response\n",
    "FROM knotch_raw;\n",
    "            "
   ]
  },
  {
   "cell_type": "code",
   "execution_count": 12,
   "metadata": {
    "collapsed": false
   },
   "outputs": [
    {
     "name": "stdout",
     "output_type": "stream",
     "text": [
      "Done.\n"
     ]
    },
    {
     "data": {
      "text/html": [
       "<table>\n",
       "    <tr>\n",
       "        <th>n_user</th>\n",
       "        <th>n_survey</th>\n",
       "        <th>n_views</th>\n",
       "    </tr>\n",
       "    <tr>\n",
       "        <td>4970415</td>\n",
       "        <td>30</td>\n",
       "        <td>5865993</td>\n",
       "    </tr>\n",
       "</table>"
      ],
      "text/plain": [
       "[(4970415, 30, 5865993)]"
      ]
     },
     "execution_count": 12,
     "metadata": {},
     "output_type": "execute_result"
    }
   ],
   "source": [
    "%%sql\n",
    "SELECT COUNT(DISTINCT(user_id)) AS n_user, COUNT(DISTINCT(survey_id)) AS n_survey, COUNT(DISTINCT(view_id)) AS n_views\n",
    "FROM knotch_raw;"
   ]
  },
  {
   "cell_type": "markdown",
   "metadata": {},
   "source": [
    "It looks like there are some negative values for time_to_interact, and there fewer unique view_ids than there are rows in the table, so there must be repeated view_ids in there somewhere.  Let's find these non-unique view_ids and look at the observations they are associated with."
   ]
  },
  {
   "cell_type": "code",
   "execution_count": 14,
   "metadata": {
    "collapsed": false
   },
   "outputs": [
    {
     "name": "stdout",
     "output_type": "stream",
     "text": [
      "Done.\n"
     ]
    },
    {
     "data": {
      "text/html": [
       "<table>\n",
       "    <tr>\n",
       "        <th>view_id</th>\n",
       "        <th>n_user</th>\n",
       "        <th>n_survey</th>\n",
       "        <th>response</th>\n",
       "    </tr>\n",
       "    <tr>\n",
       "        <td>584f8ee639cf95f06a025344</td>\n",
       "        <td>23</td>\n",
       "        <td>23</td>\n",
       "        <td>0.0</td>\n",
       "    </tr>\n",
       "    <tr>\n",
       "        <td>584f6ea4eb77f9e55ae06d68</td>\n",
       "        <td>22</td>\n",
       "        <td>22</td>\n",
       "        <td>-5.0</td>\n",
       "    </tr>\n",
       "    <tr>\n",
       "        <td>583dc18319c1f4902b310ab1</td>\n",
       "        <td>15</td>\n",
       "        <td>15</td>\n",
       "        <td>1.0</td>\n",
       "    </tr>\n",
       "    <tr>\n",
       "        <td>56fac61216846dda76512932</td>\n",
       "        <td>4</td>\n",
       "        <td>4</td>\n",
       "        <td>-5.0</td>\n",
       "    </tr>\n",
       "    <tr>\n",
       "        <td>56ed923801ef4dac61df651d</td>\n",
       "        <td>2</td>\n",
       "        <td>2</td>\n",
       "        <td>0.0</td>\n",
       "    </tr>\n",
       "</table>"
      ],
      "text/plain": [
       "[(u'584f8ee639cf95f06a025344', 23, 23, 0.0),\n",
       " (u'584f6ea4eb77f9e55ae06d68', 22, 22, -5.0),\n",
       " (u'583dc18319c1f4902b310ab1', 15, 15, 1.0),\n",
       " (u'56fac61216846dda76512932', 4, 4, -5.0),\n",
       " (u'56ed923801ef4dac61df651d', 2, 2, 0.0)]"
      ]
     },
     "execution_count": 14,
     "metadata": {},
     "output_type": "execute_result"
    }
   ],
   "source": [
    "%%sql\n",
    "SELECT view_id, COUNT(user_id) AS n_user, COUNT(survey_id) AS n_survey, response\n",
    "FROM knotch_raw\n",
    "WHERE response IS NOT NULL\n",
    "GROUP BY view_id\n",
    "ORDER BY n_user DESC\n",
    "LIMIT 5;"
   ]
  },
  {
   "cell_type": "markdown",
   "metadata": {},
   "source": [
    "It appears that the issue is confined to a relatively small number of view_ids."
   ]
  },
  {
   "cell_type": "code",
   "execution_count": 15,
   "metadata": {
    "collapsed": false
   },
   "outputs": [
    {
     "name": "stdout",
     "output_type": "stream",
     "text": [
      "Done.\n"
     ]
    },
    {
     "data": {
      "text/html": [
       "<table>\n",
       "    <tr>\n",
       "        <th>user_id</th>\n",
       "        <th>survey_id</th>\n",
       "        <th>view_id</th>\n",
       "        <th>ts</th>\n",
       "        <th>city</th>\n",
       "        <th>country</th>\n",
       "        <th>device</th>\n",
       "        <th>os</th>\n",
       "        <th>browser</th>\n",
       "        <th>time_on_page</th>\n",
       "        <th>time_to_interact</th>\n",
       "        <th>interaction_type</th>\n",
       "        <th>response</th>\n",
       "    </tr>\n",
       "    <tr>\n",
       "        <td>584f8ee6542223de4ca51eac</td>\n",
       "        <td>580f8ed8bbe4ee292d370280</td>\n",
       "        <td>584f8ee639cf95f06a025344</td>\n",
       "        <td>2016-12-13 06:02:14.131</td>\n",
       "        <td>Rosedale</td>\n",
       "        <td>US</td>\n",
       "        <td>desktop</td>\n",
       "        <td>Windows</td>\n",
       "        <td>Chrome</td>\n",
       "        <td>89.149</td>\n",
       "        <td>15.204</td>\n",
       "        <td>hover</td>\n",
       "        <td>0.0</td>\n",
       "    </tr>\n",
       "    <tr>\n",
       "        <td>584f8ee6542223de4ca51eac</td>\n",
       "        <td>580f8ed8bbe4ee292d370280</td>\n",
       "        <td>584f8ee639cf95f06a025344</td>\n",
       "        <td>2016-12-13 06:02:14.131</td>\n",
       "        <td>Rosedale</td>\n",
       "        <td>US</td>\n",
       "        <td>desktop</td>\n",
       "        <td>Windows</td>\n",
       "        <td>Chrome</td>\n",
       "        <td>60.537</td>\n",
       "        <td>15.204</td>\n",
       "        <td>hover</td>\n",
       "        <td>0.0</td>\n",
       "    </tr>\n",
       "    <tr>\n",
       "        <td>584f8ee6542223de4ca51eac</td>\n",
       "        <td>580f8ed8bbe4ee292d370280</td>\n",
       "        <td>584f8ee639cf95f06a025344</td>\n",
       "        <td>2016-12-13 06:02:14.131</td>\n",
       "        <td>Rosedale</td>\n",
       "        <td>US</td>\n",
       "        <td>desktop</td>\n",
       "        <td>Windows</td>\n",
       "        <td>Chrome</td>\n",
       "        <td>74.927</td>\n",
       "        <td>15.204</td>\n",
       "        <td>hover</td>\n",
       "        <td>0.0</td>\n",
       "    </tr>\n",
       "    <tr>\n",
       "        <td>584f8ee6542223de4ca51eac</td>\n",
       "        <td>580f8ed8bbe4ee292d370280</td>\n",
       "        <td>584f8ee639cf95f06a025344</td>\n",
       "        <td>2016-12-13 06:02:14.131</td>\n",
       "        <td>Rosedale</td>\n",
       "        <td>US</td>\n",
       "        <td>desktop</td>\n",
       "        <td>Windows</td>\n",
       "        <td>Chrome</td>\n",
       "        <td>70.516</td>\n",
       "        <td>15.204</td>\n",
       "        <td>hover</td>\n",
       "        <td>0.0</td>\n",
       "    </tr>\n",
       "    <tr>\n",
       "        <td>584f8ee6542223de4ca51eac</td>\n",
       "        <td>580f8ed8bbe4ee292d370280</td>\n",
       "        <td>584f8ee639cf95f06a025344</td>\n",
       "        <td>2016-12-13 06:02:14.131</td>\n",
       "        <td>Rosedale</td>\n",
       "        <td>US</td>\n",
       "        <td>desktop</td>\n",
       "        <td>Windows</td>\n",
       "        <td>Chrome</td>\n",
       "        <td>98.203</td>\n",
       "        <td>15.204</td>\n",
       "        <td>hover</td>\n",
       "        <td>0.0</td>\n",
       "    </tr>\n",
       "</table>"
      ],
      "text/plain": [
       "[(u'584f8ee6542223de4ca51eac', u'580f8ed8bbe4ee292d370280', u'584f8ee639cf95f06a025344', u'2016-12-13 06:02:14.131', u'Rosedale', u'US', u'desktop', u'Windows', u'Chrome', 89.149, 15.204, u'hover', 0.0),\n",
       " (u'584f8ee6542223de4ca51eac', u'580f8ed8bbe4ee292d370280', u'584f8ee639cf95f06a025344', u'2016-12-13 06:02:14.131', u'Rosedale', u'US', u'desktop', u'Windows', u'Chrome', 60.537, 15.204, u'hover', 0.0),\n",
       " (u'584f8ee6542223de4ca51eac', u'580f8ed8bbe4ee292d370280', u'584f8ee639cf95f06a025344', u'2016-12-13 06:02:14.131', u'Rosedale', u'US', u'desktop', u'Windows', u'Chrome', 74.92699999999999, 15.204, u'hover', 0.0),\n",
       " (u'584f8ee6542223de4ca51eac', u'580f8ed8bbe4ee292d370280', u'584f8ee639cf95f06a025344', u'2016-12-13 06:02:14.131', u'Rosedale', u'US', u'desktop', u'Windows', u'Chrome', 70.516, 15.204, u'hover', 0.0),\n",
       " (u'584f8ee6542223de4ca51eac', u'580f8ed8bbe4ee292d370280', u'584f8ee639cf95f06a025344', u'2016-12-13 06:02:14.131', u'Rosedale', u'US', u'desktop', u'Windows', u'Chrome', 98.20299999999999, 15.204, u'hover', 0.0)]"
      ]
     },
     "execution_count": 15,
     "metadata": {},
     "output_type": "execute_result"
    }
   ],
   "source": [
    "%%sql\n",
    "SELECT *\n",
    "FROM knotch_raw\n",
    "WHERE view_id == '584f8ee639cf95f06a025344'\n",
    "LIMIT 5;"
   ]
  },
  {
   "cell_type": "markdown",
   "metadata": {},
   "source": [
    "For the repeated view_ids, it looks like all the columns are identical except for the time_on_page.  This would appear to me to be a bug in the database, so "
   ]
  },
  {
   "cell_type": "code",
   "execution_count": 27,
   "metadata": {
    "collapsed": false
   },
   "outputs": [
    {
     "name": "stdout",
     "output_type": "stream",
     "text": [
      "Done.\n"
     ]
    },
    {
     "data": {
      "text/plain": [
       "[]"
      ]
     },
     "execution_count": 27,
     "metadata": {},
     "output_type": "execute_result"
    }
   ],
   "source": [
    "%%sql\n",
    "CREATE TABLE knotch AS\n",
    "SELECT *\n",
    "FROM knotch_raw\n",
    "WHERE time_to_interact IS NULL OR time_to_interact >0\n",
    "GROUP BY view_id;"
   ]
  },
  {
   "cell_type": "code",
   "execution_count": 195,
   "metadata": {
    "collapsed": false
   },
   "outputs": [
    {
     "name": "stdout",
     "output_type": "stream",
     "text": [
      "Done.\n"
     ]
    },
    {
     "data": {
      "text/html": [
       "<table>\n",
       "    <tr>\n",
       "        <th>pct_user_multiSurvey</th>\n",
       "    </tr>\n",
       "    <tr>\n",
       "        <td>1.61545964399</td>\n",
       "    </tr>\n",
       "</table>"
      ],
      "text/plain": [
       "[(1.615459643989271,)]"
      ]
     },
     "execution_count": 195,
     "metadata": {},
     "output_type": "execute_result"
    }
   ],
   "source": [
    "%%sql\n",
    "SELECT 100.*COUNT(user_id)/(SELECT COUNT(DISTINCT(user_id)) FROM knotch) AS pct_user_multiSurvey\n",
    "FROM (\n",
    "    SELECT user_id, COUNT(DISTINCT(survey_id)) AS n_survey\n",
    "    FROM knotch\n",
    "    GROUP BY user_id\n",
    "    HAVING n_survey >1\n",
    "    )"
   ]
  },
  {
   "cell_type": "code",
   "execution_count": 196,
   "metadata": {
    "collapsed": false
   },
   "outputs": [
    {
     "name": "stdout",
     "output_type": "stream",
     "text": [
      "percentage of users visiting more than one survey: 1.61545964399%\n"
     ]
    }
   ],
   "source": [
    "print \"percentage of users visiting more than one survey: \" + str(1.61545964399) + \"%\""
   ]
  },
  {
   "cell_type": "code",
   "execution_count": 30,
   "metadata": {
    "collapsed": false
   },
   "outputs": [
    {
     "name": "stdout",
     "output_type": "stream",
     "text": [
      "Done.\n"
     ]
    },
    {
     "data": {
      "text/html": [
       "<table>\n",
       "    <tr>\n",
       "        <th>survey_id</th>\n",
       "        <th>mean_time</th>\n",
       "    </tr>\n",
       "    <tr>\n",
       "        <td>58c9b16164b20c43664c8f3e</td>\n",
       "        <td>68.1803442975</td>\n",
       "    </tr>\n",
       "    <tr>\n",
       "        <td>580f8ed8bbe4ee292d370280</td>\n",
       "        <td>72.248141088</td>\n",
       "    </tr>\n",
       "    <tr>\n",
       "        <td>57badd5d5faf0d760ced66ea</td>\n",
       "        <td>80.8085540011</td>\n",
       "    </tr>\n",
       "    <tr>\n",
       "        <td>573b111eeb657163742cac78</td>\n",
       "        <td>81.28595086</td>\n",
       "    </tr>\n",
       "    <tr>\n",
       "        <td>57da5b0805a1209d481293f9</td>\n",
       "        <td>109.014541779</td>\n",
       "    </tr>\n",
       "</table>"
      ],
      "text/plain": [
       "[(u'58c9b16164b20c43664c8f3e', 68.18034429746149),\n",
       " (u'580f8ed8bbe4ee292d370280', 72.24814108801405),\n",
       " (u'57badd5d5faf0d760ced66ea', 80.8085540011191),\n",
       " (u'573b111eeb657163742cac78', 81.28595085995104),\n",
       " (u'57da5b0805a1209d481293f9', 109.01454177897571)]"
      ]
     },
     "execution_count": 30,
     "metadata": {},
     "output_type": "execute_result"
    }
   ],
   "source": [
    "%%sql\n",
    "SELECT survey_id, AVG(time_to_interact) AS mean_time\n",
    "FROM knotch\n",
    "WHERE time_to_interact IS NOT NULL\n",
    "GROUP BY survey_id\n",
    "ORDER BY mean_time ASC\n",
    "LIMIT 5;"
   ]
  },
  {
   "cell_type": "code",
   "execution_count": 34,
   "metadata": {
    "collapsed": false
   },
   "outputs": [
    {
     "name": "stdout",
     "output_type": "stream",
     "text": [
      "Done.\n"
     ]
    },
    {
     "data": {
      "text/html": [
       "<table>\n",
       "    <tr>\n",
       "        <th>survey_id</th>\n",
       "        <th>min_time</th>\n",
       "    </tr>\n",
       "    <tr>\n",
       "        <td>580f8ed8bbe4ee292d370280</td>\n",
       "        <td>0.003</td>\n",
       "    </tr>\n",
       "    <tr>\n",
       "        <td>57badd5d5faf0d760ced66ea</td>\n",
       "        <td>0.005</td>\n",
       "    </tr>\n",
       "    <tr>\n",
       "        <td>577d7037b0e2da617de1c7d7</td>\n",
       "        <td>0.006</td>\n",
       "    </tr>\n",
       "    <tr>\n",
       "        <td>57d02425d0a82f64349c9cc0</td>\n",
       "        <td>0.035</td>\n",
       "    </tr>\n",
       "    <tr>\n",
       "        <td>56eb4ca59399e8047fc6592d</td>\n",
       "        <td>0.055</td>\n",
       "    </tr>\n",
       "</table>"
      ],
      "text/plain": [
       "[(u'580f8ed8bbe4ee292d370280', 0.003),\n",
       " (u'57badd5d5faf0d760ced66ea', 0.005),\n",
       " (u'577d7037b0e2da617de1c7d7', 0.006),\n",
       " (u'57d02425d0a82f64349c9cc0', 0.035),\n",
       " (u'56eb4ca59399e8047fc6592d', 0.055)]"
      ]
     },
     "execution_count": 34,
     "metadata": {},
     "output_type": "execute_result"
    }
   ],
   "source": [
    "%%sql\n",
    "SELECT survey_id, MIN(time_to_interact) AS min_time\n",
    "FROM knotch\n",
    "WHERE time_to_interact IS NOT NULL\n",
    "GROUP BY survey_id\n",
    "ORDER BY min_time ASC\n",
    "LIMIT 5;"
   ]
  },
  {
   "cell_type": "code",
   "execution_count": 25,
   "metadata": {
    "collapsed": false
   },
   "outputs": [
    {
     "name": "stdout",
     "output_type": "stream",
     "text": [
      "survey with quickest average response:\n",
      "            survey_id 58c9b16164b20c43664c8f3e\n",
      "            average response time 68.1803442975 seconds (probably)\n",
      "survey with quickest single response:\n",
      "            survey_id 580f8ed8bbe4ee292d370280\n",
      "            response time 0.003 seconds (probably)\n"
     ]
    }
   ],
   "source": [
    "print \"survey with quickest average response:\\n\\\n",
    "            survey_id 58c9b16164b20c43664c8f3e\\n\\\n",
    "            average response time 68.1803442975 seconds (probably)\"\n",
    "print \"survey with quickest single response:\\n\\\n",
    "            survey_id 580f8ed8bbe4ee292d370280\\n\\\n",
    "            response time 0.003 seconds (probably)\""
   ]
  },
  {
   "cell_type": "code",
   "execution_count": 36,
   "metadata": {
    "collapsed": false
   },
   "outputs": [
    {
     "name": "stdout",
     "output_type": "stream",
     "text": [
      "Done.\n"
     ]
    },
    {
     "data": {
      "text/plain": [
       "[]"
      ]
     },
     "execution_count": 36,
     "metadata": {},
     "output_type": "execute_result"
    }
   ],
   "source": [
    "%%sql\n",
    "CREATE TABLE responses AS\n",
    "SELECT *\n",
    "FROM knotch\n",
    "WHERE response IS NOT NULL;"
   ]
  },
  {
   "cell_type": "code",
   "execution_count": 39,
   "metadata": {
    "collapsed": false
   },
   "outputs": [],
   "source": [
    "query = \"\"\"SELECT r.hour, r.n_responses, v.n_views\n",
    "FROM\n",
    "    (SELECT strftime('%H', ts) AS hour, COUNT(view_id) AS n_responses\n",
    "    FROM responses\n",
    "    GROUP BY hour) r  \n",
    "    JOIN\n",
    "    (SELECT strftime('%H', ts) AS hour, COUNT(view_id) AS n_views\n",
    "    FROM knotch\n",
    "    GROUP BY hour) v\n",
    "    ON r.hour = v.hour\"\"\"\n",
    "worldTimes_df = pd.read_sql(query, conn)"
   ]
  },
  {
   "cell_type": "code",
   "execution_count": 40,
   "metadata": {
    "collapsed": false
   },
   "outputs": [],
   "source": [
    "def times_getResponseRate(df):\n",
    "    return df['n_responses']/df['n_views']\n",
    "\n",
    "def times_getNormColumns(df):\n",
    "    return df[['n_responses','n_views','responseRate']]/df[['n_responses','n_views','responseRate']].max()\n",
    "\n",
    "def times_getLocalTime(df,shift):\n",
    "    return (df['hour'].astype(int)+shift)%24"
   ]
  },
  {
   "cell_type": "code",
   "execution_count": 41,
   "metadata": {
    "collapsed": false
   },
   "outputs": [],
   "source": [
    "worldTimes_df['responseRate'] = times_getResponseRate(worldTimes_df)"
   ]
  },
  {
   "cell_type": "code",
   "execution_count": 42,
   "metadata": {
    "collapsed": false
   },
   "outputs": [],
   "source": [
    "worldTimes_df[['norm_responses','norm_views','norm_rate']] = times_getNormColumns(worldTimes_df)"
   ]
  },
  {
   "cell_type": "code",
   "execution_count": 61,
   "metadata": {
    "collapsed": false
   },
   "outputs": [],
   "source": [
    "matplotlib.rcParams['figure.figsize'] = (15, 8)\n",
    "matplotlib.rcParams[\"font.size\"] = \"16\""
   ]
  },
  {
   "cell_type": "code",
   "execution_count": 72,
   "metadata": {
    "collapsed": false
   },
   "outputs": [
    {
     "data": {
      "text/plain": [
       "<matplotlib.text.Text at 0x7fa2f5360550>"
      ]
     },
     "execution_count": 72,
     "metadata": {},
     "output_type": "execute_result"
    },
    {
     "data": {
      "text/plain": [
       "<matplotlib.figure.Figure at 0x7fa2e67738d0>"
      ]
     },
     "metadata": {},
     "output_type": "display_data"
    },
    {
     "data": {
      "image/png": "[encoded data removed]",
      "text/plain": [
       "<matplotlib.figure.Figure at 0x7fa2bd71c250>"
      ]
     },
     "metadata": {},
     "output_type": "display_data"
    }
   ],
   "source": [
    "plt.figure()\n",
    "p = worldTimes_df[['norm_responses','norm_views','norm_rate']].plot(kind='bar',title='Views, Responses, and Response Rates by Hour, World Wide')\n",
    "p.set_xlabel(\"Hour (UTC)\")\n",
    "p.set_ylabel(\"Fraction of maximum value\")"
   ]
  },
  {
   "cell_type": "code",
   "execution_count": 67,
   "metadata": {
    "collapsed": false
   },
   "outputs": [
    {
     "name": "stdout",
     "output_type": "stream",
     "text": [
      "Done.\n"
     ]
    },
    {
     "data": {
      "text/html": [
       "<table>\n",
       "    <tr>\n",
       "        <th>country</th>\n",
       "        <th>percent_views</th>\n",
       "    </tr>\n",
       "    <tr>\n",
       "        <td>US</td>\n",
       "        <td>29.6914094511</td>\n",
       "    </tr>\n",
       "    <tr>\n",
       "        <td>CN</td>\n",
       "        <td>27.6138924816</td>\n",
       "    </tr>\n",
       "    <tr>\n",
       "        <td>GB</td>\n",
       "        <td>14.3434709179</td>\n",
       "    </tr>\n",
       "    <tr>\n",
       "        <td>BR</td>\n",
       "        <td>3.14783873762</td>\n",
       "    </tr>\n",
       "    <tr>\n",
       "        <td>ID</td>\n",
       "        <td>3.11154479727</td>\n",
       "    </tr>\n",
       "</table>"
      ],
      "text/plain": [
       "[(u'US', 29.691409451051168),\n",
       " (u'CN', 27.613892481630987),\n",
       " (u'GB', 14.343470917882104),\n",
       " (u'BR', 3.147838737618678),\n",
       " (u'ID', 3.1115447972747323)]"
      ]
     },
     "execution_count": 67,
     "metadata": {},
     "output_type": "execute_result"
    }
   ],
   "source": [
    "%%sql\n",
    "SELECT country, 100.*COUNT(DISTINCT(view_id))/5865993. AS percent_views\n",
    "FROM knotch\n",
    "GROUP BY country\n",
    "ORDER BY percent_views DESC\n",
    "LIMIT 5;"
   ]
  },
  {
   "cell_type": "code",
   "execution_count": 68,
   "metadata": {
    "collapsed": true
   },
   "outputs": [],
   "source": [
    "query_US = \"\"\"SELECT r.hour, r.n_responses, v.n_views\n",
    "    FROM\n",
    "    (SELECT strftime('%H', ts) AS hour, COUNT(view_id) AS n_responses\n",
    "    FROM responses\n",
    "    WHERE country == 'US'\n",
    "    GROUP BY hour) r  \n",
    "    JOIN\n",
    "    (SELECT strftime('%H', ts) AS hour, COUNT(view_id) AS n_views\n",
    "    FROM knotch\n",
    "    WHERE country == 'US'\n",
    "    GROUP BY hour) v\n",
    "    ON r.hour = v.hour\"\"\"\n",
    "\n",
    "query_CN = \"\"\"SELECT r.hour, r.n_responses, v.n_views\n",
    "    FROM\n",
    "    (SELECT strftime('%H', ts) AS hour, COUNT(view_id) AS n_responses\n",
    "    FROM responses\n",
    "    WHERE country == 'CN'\n",
    "    GROUP BY hour) r  \n",
    "    JOIN\n",
    "    (SELECT strftime('%H', ts) AS hour, COUNT(view_id) AS n_views\n",
    "    FROM knotch\n",
    "    WHERE country == 'CN'\n",
    "    GROUP BY hour) v\n",
    "    ON r.hour = v.hour\"\"\"\n",
    "\n",
    "query_GB = \"\"\"SELECT r.hour, r.n_responses, v.n_views\n",
    "    FROM\n",
    "    (SELECT strftime('%H', ts) AS hour, COUNT(view_id) AS n_responses\n",
    "    FROM responses\n",
    "    WHERE country == 'GB'\n",
    "    GROUP BY hour) r  \n",
    "    JOIN\n",
    "    (SELECT strftime('%H', ts) AS hour, COUNT(view_id) AS n_views\n",
    "    FROM knotch\n",
    "    WHERE country == 'GB'\n",
    "    GROUP BY hour) v\n",
    "    ON r.hour = v.hour\"\"\"\n",
    "\n",
    "USTimes_df = pd.read_sql(query_US, conn)\n",
    "CNTimes_df = pd.read_sql(query_CN, conn)\n",
    "GBTimes_df = pd.read_sql(query_GB, conn)"
   ]
  },
  {
   "cell_type": "code",
   "execution_count": 69,
   "metadata": {
    "collapsed": false
   },
   "outputs": [],
   "source": [
    "USTimes_df['responseRate'] = times_getResponseRate(USTimes_df)\n",
    "CNTimes_df['responseRate'] = times_getResponseRate(CNTimes_df)\n",
    "GBTimes_df['responseRate'] = times_getResponseRate(GBTimes_df)"
   ]
  },
  {
   "cell_type": "code",
   "execution_count": 70,
   "metadata": {
    "collapsed": true
   },
   "outputs": [],
   "source": [
    "USTimes_df[['norm_responses','norm_views','norm_rate']] = times_getNormColumns(USTimes_df)\n",
    "CNTimes_df[['norm_responses','norm_views','norm_rate']] = times_getNormColumns(CNTimes_df)\n",
    "GBTimes_df[['norm_responses','norm_views','norm_rate']] = times_getNormColumns(GBTimes_df)"
   ]
  },
  {
   "cell_type": "code",
   "execution_count": 71,
   "metadata": {
    "collapsed": false
   },
   "outputs": [],
   "source": [
    "USTimes_df['local_hour'] = times_getLocalTime(USTimes_df,-4)\n",
    "CNTimes_df['local_hour'] = times_getLocalTime(CNTimes_df,8)\n",
    "GBTimes_df['local_hour'] = times_getLocalTime(GBTimes_df,1)"
   ]
  },
  {
   "cell_type": "code",
   "execution_count": 74,
   "metadata": {
    "collapsed": false
   },
   "outputs": [
    {
     "data": {
      "text/plain": [
       "<matplotlib.text.Text at 0x7fa3130b5d10>"
      ]
     },
     "execution_count": 74,
     "metadata": {},
     "output_type": "execute_result"
    },
    {
     "data": {
      "text/plain": [
       "<matplotlib.figure.Figure at 0x7fa31312e950>"
      ]
     },
     "metadata": {},
     "output_type": "display_data"
    },
    {
     "data": {
      "image/png": "[encoded data removed]",
      "text/plain": [
       "<matplotlib.figure.Figure at 0x7fa309e6d3d0>"
      ]
     },
     "metadata": {},
     "output_type": "display_data"
    }
   ],
   "source": [
    "plt.figure();\n",
    "p = USTimes_df[['local_hour','norm_responses','norm_views','norm_rate']].sort_values('local_hour').plot(x='local_hour', kind='bar', title='Views, Responses, and Response Rates by Hour, USA')\n",
    "p.set_xlabel(\"Hour (EST)\")\n",
    "p.set_ylabel(\"Fraction of maximum value\")"
   ]
  },
  {
   "cell_type": "code",
   "execution_count": 75,
   "metadata": {
    "collapsed": false
   },
   "outputs": [
    {
     "data": {
      "text/plain": [
       "<matplotlib.text.Text at 0x7fa312827e50>"
      ]
     },
     "execution_count": 75,
     "metadata": {},
     "output_type": "execute_result"
    },
    {
     "data": {
      "text/plain": [
       "<matplotlib.figure.Figure at 0x7fa31286c1d0>"
      ]
     },
     "metadata": {},
     "output_type": "display_data"
    },
    {
     "data": {
      "image/png": "[encoded data removed]",
      "text/plain": [
       "<matplotlib.figure.Figure at 0x7fa2772d6a10>"
      ]
     },
     "metadata": {},
     "output_type": "display_data"
    }
   ],
   "source": [
    "plt.figure();\n",
    "p = CNTimes_df[['local_hour','norm_responses','norm_views','norm_rate']].sort_values('local_hour').plot(x='local_hour', kind='bar', title='Views, Responses, and Response Rates by Hour, China')\n",
    "p.set_xlabel(\"Hour (CT)\")\n",
    "p.set_ylabel(\"Fraction of maximum value\")"
   ]
  },
  {
   "cell_type": "code",
   "execution_count": 76,
   "metadata": {
    "collapsed": false
   },
   "outputs": [
    {
     "data": {
      "text/plain": [
       "<matplotlib.text.Text at 0x7fa312532c50>"
      ]
     },
     "execution_count": 76,
     "metadata": {},
     "output_type": "execute_result"
    },
    {
     "data": {
      "text/plain": [
       "<matplotlib.figure.Figure at 0x7fa3125a6d50>"
      ]
     },
     "metadata": {},
     "output_type": "display_data"
    },
    {
     "data": {
      "image/png": "[encoded data removed]",
      "text/plain": [
       "<matplotlib.figure.Figure at 0x7fa30662df50>"
      ]
     },
     "metadata": {},
     "output_type": "display_data"
    }
   ],
   "source": [
    "plt.figure();\n",
    "p = GBTimes_df[['local_hour','norm_responses','norm_views','norm_rate']].sort_values('local_hour').plot(x='local_hour', kind='bar', title='Views, Responses, and Response Rates by Hour, Great Britain')\n",
    "p.set_xlabel(\"Hour (GMT)\")\n",
    "p.set_ylabel(\"Fraction of maximum value\")\n"
   ]
  },
  {
   "cell_type": "code",
   "execution_count": 77,
   "metadata": {
    "collapsed": true
   },
   "outputs": [],
   "source": [
    "query = \"\"\"SELECT r.survey_id, r.n_responses, v.n_views, \n",
    "        CAST(r.n_responses AS float)/CAST(v.n_views AS float) AS response_rate, \n",
    "        r.avg_response, r.n_positive, r.n_negative\n",
    "FROM\n",
    "    (SELECT survey_id, COUNT(view_id) AS n_responses, AVG(response) AS avg_response,\n",
    "         SUM(CASE WHEN response >0 THEN 1 ELSE 0 END) AS n_positive,\n",
    "         SUM(CASE WHEN response <0 THEN 1 ELSE 0 END) AS n_negative\n",
    "    FROM responses\n",
    "    GROUP BY survey_id) r  \n",
    "JOIN\n",
    "    (SELECT survey_id, COUNT(view_id) AS n_views\n",
    "    FROM knotch\n",
    "    GROUP BY survey_id) v\n",
    "ON r.survey_id = v.survey_id\"\"\"\n",
    "\n",
    "responses_df = pd.read_sql(query, conn)"
   ]
  },
  {
   "cell_type": "code",
   "execution_count": 78,
   "metadata": {
    "collapsed": false
   },
   "outputs": [
    {
     "data": {
      "text/html": [
       "<div>\n",
       "<table border=\"1\" class=\"dataframe\">\n",
       "  <thead>\n",
       "    <tr style=\"text-align: right;\">\n",
       "      <th></th>\n",
       "      <th>survey_id</th>\n",
       "      <th>n_responses</th>\n",
       "      <th>n_views</th>\n",
       "      <th>response_rate</th>\n",
       "      <th>avg_response</th>\n",
       "      <th>n_positive</th>\n",
       "      <th>n_negative</th>\n",
       "    </tr>\n",
       "  </thead>\n",
       "  <tbody>\n",
       "    <tr>\n",
       "      <th>26</th>\n",
       "      <td>5848dfdeebdaf1e45a8f26a9</td>\n",
       "      <td>7</td>\n",
       "      <td>59908</td>\n",
       "      <td>0.000117</td>\n",
       "      <td>4.428571</td>\n",
       "      <td>7</td>\n",
       "      <td>0</td>\n",
       "    </tr>\n",
       "    <tr>\n",
       "      <th>28</th>\n",
       "      <td>584ae842ebdaf1e45a8f92bd</td>\n",
       "      <td>1</td>\n",
       "      <td>60925</td>\n",
       "      <td>0.000016</td>\n",
       "      <td>4.000000</td>\n",
       "      <td>1</td>\n",
       "      <td>0</td>\n",
       "    </tr>\n",
       "    <tr>\n",
       "      <th>2</th>\n",
       "      <td>576c689af2d255082991e74f</td>\n",
       "      <td>418</td>\n",
       "      <td>131754</td>\n",
       "      <td>0.003173</td>\n",
       "      <td>3.547847</td>\n",
       "      <td>367</td>\n",
       "      <td>22</td>\n",
       "    </tr>\n",
       "    <tr>\n",
       "      <th>4</th>\n",
       "      <td>577acafca7fa3d7962219044</td>\n",
       "      <td>189</td>\n",
       "      <td>62065</td>\n",
       "      <td>0.003045</td>\n",
       "      <td>3.333333</td>\n",
       "      <td>154</td>\n",
       "      <td>12</td>\n",
       "    </tr>\n",
       "    <tr>\n",
       "      <th>27</th>\n",
       "      <td>584a87fc20c21d3a3211e20d</td>\n",
       "      <td>2</td>\n",
       "      <td>61133</td>\n",
       "      <td>0.000033</td>\n",
       "      <td>2.500000</td>\n",
       "      <td>1</td>\n",
       "      <td>0</td>\n",
       "    </tr>\n",
       "  </tbody>\n",
       "</table>\n",
       "</div>"
      ],
      "text/plain": [
       "                   survey_id  n_responses  n_views  response_rate  \\\n",
       "26  5848dfdeebdaf1e45a8f26a9            7    59908       0.000117   \n",
       "28  584ae842ebdaf1e45a8f92bd            1    60925       0.000016   \n",
       "2   576c689af2d255082991e74f          418   131754       0.003173   \n",
       "4   577acafca7fa3d7962219044          189    62065       0.003045   \n",
       "27  584a87fc20c21d3a3211e20d            2    61133       0.000033   \n",
       "\n",
       "    avg_response  n_positive  n_negative  \n",
       "26      4.428571           7           0  \n",
       "28      4.000000           1           0  \n",
       "2       3.547847         367          22  \n",
       "4       3.333333         154          12  \n",
       "27      2.500000           1           0  "
      ]
     },
     "execution_count": 78,
     "metadata": {},
     "output_type": "execute_result"
    }
   ],
   "source": [
    "responses_df.sort_values('avg_response',ascending = False).head()"
   ]
  },
  {
   "cell_type": "code",
   "execution_count": 79,
   "metadata": {
    "collapsed": true
   },
   "outputs": [],
   "source": [
    "def minSamp_diff(df,m,z,ps_1,ps_2):\n",
    "    \n",
    "    num = (z**2)/(m**2)*(ps_1*(1-ps_1)+ps_2*(1-ps_2))\n",
    "    return np.ceil(num/(1.+num/df['n_views'])).astype(int)"
   ]
  },
  {
   "cell_type": "code",
   "execution_count": 80,
   "metadata": {
    "collapsed": false
   },
   "outputs": [],
   "source": [
    "responses_df['minSample_95'] = minSamp_diff(responses_df,0.05,1.960,0.5,0.5)\n",
    "responses_df['minSample_90'] = minSamp_diff(responses_df,0.05,1.654,0.5,0.5)"
   ]
  },
  {
   "cell_type": "code",
   "execution_count": 81,
   "metadata": {
    "collapsed": false
   },
   "outputs": [
    {
     "data": {
      "text/html": [
       "<div>\n",
       "<table border=\"1\" class=\"dataframe\">\n",
       "  <thead>\n",
       "    <tr style=\"text-align: right;\">\n",
       "      <th></th>\n",
       "      <th>survey_id</th>\n",
       "      <th>n_responses</th>\n",
       "      <th>n_views</th>\n",
       "      <th>response_rate</th>\n",
       "      <th>avg_response</th>\n",
       "      <th>n_positive</th>\n",
       "      <th>n_negative</th>\n",
       "      <th>minSample_95</th>\n",
       "      <th>minSample_90</th>\n",
       "    </tr>\n",
       "  </thead>\n",
       "  <tbody>\n",
       "    <tr>\n",
       "      <th>1</th>\n",
       "      <td>573b111eeb657163742cac78</td>\n",
       "      <td>1227</td>\n",
       "      <td>255734</td>\n",
       "      <td>0.004798</td>\n",
       "      <td>1.979625</td>\n",
       "      <td>814</td>\n",
       "      <td>147</td>\n",
       "      <td>767</td>\n",
       "      <td>546</td>\n",
       "    </tr>\n",
       "    <tr>\n",
       "      <th>9</th>\n",
       "      <td>57a84292c8b1b0a55b5d819a</td>\n",
       "      <td>1057</td>\n",
       "      <td>74147</td>\n",
       "      <td>0.014255</td>\n",
       "      <td>1.473983</td>\n",
       "      <td>668</td>\n",
       "      <td>251</td>\n",
       "      <td>761</td>\n",
       "      <td>544</td>\n",
       "    </tr>\n",
       "    <tr>\n",
       "      <th>23</th>\n",
       "      <td>580f8ed8bbe4ee292d370280</td>\n",
       "      <td>3346</td>\n",
       "      <td>225208</td>\n",
       "      <td>0.014857</td>\n",
       "      <td>1.243574</td>\n",
       "      <td>1673</td>\n",
       "      <td>548</td>\n",
       "      <td>766</td>\n",
       "      <td>546</td>\n",
       "    </tr>\n",
       "    <tr>\n",
       "      <th>0</th>\n",
       "      <td>56eb4ca59399e8047fc6592d</td>\n",
       "      <td>3850</td>\n",
       "      <td>194827</td>\n",
       "      <td>0.019761</td>\n",
       "      <td>0.562857</td>\n",
       "      <td>1966</td>\n",
       "      <td>1405</td>\n",
       "      <td>766</td>\n",
       "      <td>546</td>\n",
       "    </tr>\n",
       "  </tbody>\n",
       "</table>\n",
       "</div>"
      ],
      "text/plain": [
       "                   survey_id  n_responses  n_views  response_rate  \\\n",
       "1   573b111eeb657163742cac78         1227   255734       0.004798   \n",
       "9   57a84292c8b1b0a55b5d819a         1057    74147       0.014255   \n",
       "23  580f8ed8bbe4ee292d370280         3346   225208       0.014857   \n",
       "0   56eb4ca59399e8047fc6592d         3850   194827       0.019761   \n",
       "\n",
       "    avg_response  n_positive  n_negative  minSample_95  minSample_90  \n",
       "1       1.979625         814         147           767           546  \n",
       "9       1.473983         668         251           761           544  \n",
       "23      1.243574        1673         548           766           546  \n",
       "0       0.562857        1966        1405           766           546  "
      ]
     },
     "execution_count": 81,
     "metadata": {},
     "output_type": "execute_result"
    }
   ],
   "source": [
    "responses_df[responses_df['n_responses']>=responses_df['minSample_95']].sort_values('avg_response',ascending = False)"
   ]
  },
  {
   "cell_type": "code",
   "execution_count": 82,
   "metadata": {
    "collapsed": true
   },
   "outputs": [],
   "source": [
    "query = \"\"\"SELECT time_on_page, time_to_interact, interaction_type, response \n",
    "FROM responses\n",
    "WHERE time_to_interact IS NOT NULL AND \n",
    "    time_on_page IS NOT NULL\n",
    "\"\"\"\n",
    "\n",
    "intTimes_df = pd.read_sql(query, conn)"
   ]
  },
  {
   "cell_type": "code",
   "execution_count": 89,
   "metadata": {
    "collapsed": false
   },
   "outputs": [
    {
     "data": {
      "text/plain": [
       "<matplotlib.text.Text at 0x7fa311dec210>"
      ]
     },
     "execution_count": 89,
     "metadata": {},
     "output_type": "execute_result"
    },
    {
     "data": {
      "image/png": "[encoded data removed]",
      "text/plain": [
       "<matplotlib.figure.Figure at 0x7fa3124501d0>"
      ]
     },
     "metadata": {},
     "output_type": "display_data"
    }
   ],
   "source": [
    "plt.figure()\n",
    "p = intTimes_df['response'].plot.hist(bins = 11, title='Response counts by value')\n",
    "p.set_xlabel(\"Knotch response score\")\n",
    "p.set_ylabel(\"Count\")"
   ]
  },
  {
   "cell_type": "code",
   "execution_count": 83,
   "metadata": {
    "collapsed": true
   },
   "outputs": [],
   "source": [
    "def filterRange(df,col,lim):\n",
    "    lb = lim[0]\n",
    "    ub = lim[1]\n",
    "    return df[df[col].between(lb,ub,inclusive=True)]"
   ]
  },
  {
   "cell_type": "code",
   "execution_count": 90,
   "metadata": {
    "collapsed": true
   },
   "outputs": [],
   "source": [
    "column = 'time_on_page'\n",
    "quantiles = zip(np.linspace(0,0.75,4),np.linspace(0.25,1,4))\n",
    "QTdfs = [filterRange(intTimes_df,column,intTimes_df[column].quantile(quant).tolist()) for quant in quantiles]"
   ]
  },
  {
   "cell_type": "code",
   "execution_count": 91,
   "metadata": {
    "collapsed": true
   },
   "outputs": [],
   "source": [
    "quart_df = pd.DataFrame()\n",
    "quart_df['quart1'] = QTdfs[0]['response'].tolist()\n",
    "quart_df['quart2'] = QTdfs[1]['response'].tolist()\n",
    "quart_df['quart3'] = QTdfs[2]['response'].tolist()\n",
    "quart_df['quart4'] = QTdfs[3]['response'].tolist()"
   ]
  },
  {
   "cell_type": "code",
   "execution_count": 92,
   "metadata": {
    "collapsed": false
   },
   "outputs": [
    {
     "data": {
      "text/plain": [
       "<matplotlib.text.Text at 0x7fa311d01910>"
      ]
     },
     "execution_count": 92,
     "metadata": {},
     "output_type": "execute_result"
    },
    {
     "data": {
      "text/plain": [
       "<matplotlib.figure.Figure at 0x7fa312422590>"
      ]
     },
     "metadata": {},
     "output_type": "display_data"
    },
    {
     "data": {
      "image/png": "[encoded data removed]",
      "text/plain": [
       "<matplotlib.figure.Figure at 0x7fa3123f8d10>"
      ]
     },
     "metadata": {},
     "output_type": "display_data"
    }
   ],
   "source": [
    "plt.figure()\n",
    "p = quart_df.plot.hist(stacked = True,bins = 11,title='Response counts by value')\n",
    "p.set_xlabel(\"Knotch response score\")\n",
    "p.set_ylabel(\"Count\")"
   ]
  },
  {
   "cell_type": "code",
   "execution_count": 93,
   "metadata": {
    "collapsed": true
   },
   "outputs": [],
   "source": [
    "column = 'time_on_page'\n",
    "quantiles = zip(np.linspace(0,0.95,20),np.linspace(0.05,1,20))\n",
    "QTdfs = [filterRange(intTimes_df,column,intTimes_df[column].quantile(quant).tolist()) for quant in quantiles]"
   ]
  },
  {
   "cell_type": "code",
   "execution_count": 52,
   "metadata": {
    "collapsed": true
   },
   "outputs": [],
   "source": [
    "avg_res_no0 = [df[~df['response'].isin([0])]['response'].mean() for df in QTdfs]"
   ]
  },
  {
   "cell_type": "code",
   "execution_count": 53,
   "metadata": {
    "collapsed": true
   },
   "outputs": [],
   "source": [
    "avg_res = [df['response'].mean() for df in QTdfs]"
   ]
  },
  {
   "cell_type": "code",
   "execution_count": 99,
   "metadata": {
    "collapsed": false
   },
   "outputs": [],
   "source": [
    "n_zero = [len(df[df['response']==0])/float(len(df)) for df in QTdfs]"
   ]
  },
  {
   "cell_type": "code",
   "execution_count": 95,
   "metadata": {
    "collapsed": true
   },
   "outputs": [],
   "source": [
    "avg_time = [df['time_on_page'].mean() for df in QTdfs]"
   ]
  },
  {
   "cell_type": "code",
   "execution_count": 148,
   "metadata": {
    "collapsed": false
   },
   "outputs": [
    {
     "data": {
      "image/png": "[encoded data removed]",
      "text/plain": [
       "<matplotlib.figure.Figure at 0x7fa310265210>"
      ]
     },
     "metadata": {},
     "output_type": "display_data"
    }
   ],
   "source": [
    "plt.figure(figsize = (10, 8) )\n",
    "plt.plot(avg_time,n_zero,'ro',ms=10)\n",
    "plt.xscale('log')\n",
    "plt.xlabel('Time on page')\n",
    "plt.ylabel('Fraction of Zero-valued responses')\n",
    "plt.title('Zero-valued responses as a function of time on page')\n",
    "plt.show()"
   ]
  },
  {
   "cell_type": "code",
   "execution_count": 118,
   "metadata": {
    "collapsed": false
   },
   "outputs": [],
   "source": [
    "query = \"\"\"SELECT r.survey_id, \n",
    "        v.n_Cr_views, r.n_Cr_resp,\n",
    "        v.n_IE_views, r.n_IE_resp,\n",
    "        v.n_FF_views, r.n_FF_resp\n",
    "FROM \n",
    "    (SELECT survey_id, \n",
    "        SUM(CASE WHEN browser == 'Chrome' THEN 1 ELSE 0 END) AS n_Cr_resp,\n",
    "        SUM(CASE WHEN browser == 'IE' THEN 1 ELSE 0 END) AS n_IE_resp,\n",
    "        SUM(CASE WHEN browser == 'Firefox' THEN 1 ELSE 0 END) AS n_FF_resp       \n",
    "    FROM responses\n",
    "    WHERE device = 'desktop'\n",
    "    GROUP BY survey_id) r\n",
    "JOIN\n",
    "    (SELECT survey_id,\n",
    "        SUM(CASE WHEN browser == 'Chrome' THEN 1 ELSE 0 END) AS n_Cr_views,\n",
    "        SUM(CASE WHEN browser == 'IE' THEN 1 ELSE 0 END) AS n_IE_views,\n",
    "        SUM(CASE WHEN browser == 'Firefox' THEN 1 ELSE 0 END) AS n_FF_views\n",
    "    FROM knotch\n",
    "    WHERE device = 'desktop'\n",
    "    GROUP BY survey_id) v\n",
    "ON r.survey_id = v.survey_id\"\"\"\n",
    "\n",
    "rspByBrw_df = pd.read_sql(query, conn)"
   ]
  },
  {
   "cell_type": "code",
   "execution_count": 119,
   "metadata": {
    "collapsed": false
   },
   "outputs": [],
   "source": [
    "rspByBrw_df = rspByBrw_df.merge(responses_df, left_on='survey_id', right_on='survey_id', how='inner')"
   ]
  },
  {
   "cell_type": "code",
   "execution_count": 120,
   "metadata": {
    "collapsed": true
   },
   "outputs": [],
   "source": [
    "rspByBrw_df.drop(['minSample_90','minSample_95'],axis=1,inplace=True)"
   ]
  },
  {
   "cell_type": "code",
   "execution_count": 107,
   "metadata": {
    "collapsed": true
   },
   "outputs": [],
   "source": [
    "def minSamp_prop(df,m,z,ps_1):\n",
    "    \n",
    "    num = (z**2)/(m**2)*(ps_1*(1-ps_1))\n",
    "    return np.ceil(num/(1.+num/df['n_views'])).astype(int)"
   ]
  },
  {
   "cell_type": "code",
   "execution_count": 108,
   "metadata": {
    "collapsed": true
   },
   "outputs": [],
   "source": [
    "rspByBrw_df['minSample_90'] = minSamp_prop(responses_df,0.1,1.654,0.5)"
   ]
  },
  {
   "cell_type": "code",
   "execution_count": 109,
   "metadata": {
    "collapsed": false
   },
   "outputs": [],
   "source": [
    "rspByBrw_df = rspByBrw_df[rspByBrw_df['n_responses']>=rspByBrw_df['minSample_90']]"
   ]
  },
  {
   "cell_type": "code",
   "execution_count": 110,
   "metadata": {
    "collapsed": true
   },
   "outputs": [],
   "source": [
    "P_Cr = 0.6924342105263158\n",
    "P_IE = 0.36352657004830913\n",
    "P_FF = 0.5125628140703518"
   ]
  },
  {
   "cell_type": "code",
   "execution_count": 149,
   "metadata": {
    "collapsed": false
   },
   "outputs": [],
   "source": [
    "rspByBrw_df['P_R'] = (rspByBrw_df['n_Cr_resp']+rspByBrw_df['n_IE_resp']+rspByBrw_df['n_FF_resp'])/\\\n",
    "                        (rspByBrw_df['n_Cr_views']+rspByBrw_df['n_IE_views']+rspByBrw_df['n_FF_views'])\n",
    "rspByBrw_df['P_U'] = (rspByBrw_df['n_Cr_views']*P_Cr+rspByBrw_df['n_IE_views']*P_IE+rspByBrw_df['n_FF_views']*P_FF)/\\\n",
    "                        (rspByBrw_df['n_Cr_views']+rspByBrw_df['n_IE_views']+rspByBrw_df['n_FF_views'])\n",
    "rspByBrw_df['P_UiR'] = (rspByBrw_df['n_Cr_resp']*P_Cr+rspByBrw_df['n_IE_resp']*P_IE+rspByBrw_df['n_FF_resp']*P_FF)/\\\n",
    "                        (rspByBrw_df['n_Cr_views']+rspByBrw_df['n_IE_views']+rspByBrw_df['n_FF_views'])\n",
    "rspByBrw_df['P_UgR'] = rspByBrw_df['P_UiR']/rspByBrw_df['P_R']\n",
    "rspByBrw_df['age18to44_represent_ratio'] = (rspByBrw_df['P_UgR']-rspByBrw_df['P_U'])/rspByBrw_df['P_U']\n"
   ]
  },
  {
   "cell_type": "code",
   "execution_count": 150,
   "metadata": {
    "collapsed": false
   },
   "outputs": [
    {
     "data": {
      "text/html": [
       "<div>\n",
       "<table border=\"1\" class=\"dataframe\">\n",
       "  <thead>\n",
       "    <tr style=\"text-align: right;\">\n",
       "      <th></th>\n",
       "      <th>survey_id</th>\n",
       "      <th>n_Cr_views</th>\n",
       "      <th>n_Cr_resp</th>\n",
       "      <th>n_IE_views</th>\n",
       "      <th>n_IE_resp</th>\n",
       "      <th>n_FF_views</th>\n",
       "      <th>n_FF_resp</th>\n",
       "      <th>n_responses</th>\n",
       "      <th>n_views</th>\n",
       "      <th>response_rate</th>\n",
       "      <th>avg_response</th>\n",
       "      <th>n_positive</th>\n",
       "      <th>n_negative</th>\n",
       "      <th>P_R</th>\n",
       "      <th>P_U</th>\n",
       "      <th>P_UiR</th>\n",
       "      <th>P_UgR</th>\n",
       "      <th>age18to44_represent_ratio</th>\n",
       "    </tr>\n",
       "  </thead>\n",
       "  <tbody>\n",
       "    <tr>\n",
       "      <th>0</th>\n",
       "      <td>56eb4ca59399e8047fc6592d</td>\n",
       "      <td>18344</td>\n",
       "      <td>1100</td>\n",
       "      <td>1211</td>\n",
       "      <td>30</td>\n",
       "      <td>4652</td>\n",
       "      <td>1454</td>\n",
       "      <td>3850</td>\n",
       "      <td>194827</td>\n",
       "      <td>0.019761</td>\n",
       "      <td>0.562857</td>\n",
       "      <td>1966</td>\n",
       "      <td>1405</td>\n",
       "      <td>0.106746</td>\n",
       "      <td>0.641413</td>\n",
       "      <td>0.062703</td>\n",
       "      <td>0.587403</td>\n",
       "      <td>-0.084205</td>\n",
       "    </tr>\n",
       "    <tr>\n",
       "      <th>1</th>\n",
       "      <td>573b111eeb657163742cac78</td>\n",
       "      <td>26991</td>\n",
       "      <td>416</td>\n",
       "      <td>15040</td>\n",
       "      <td>28</td>\n",
       "      <td>4686</td>\n",
       "      <td>67</td>\n",
       "      <td>1227</td>\n",
       "      <td>255734</td>\n",
       "      <td>0.004798</td>\n",
       "      <td>1.979625</td>\n",
       "      <td>814</td>\n",
       "      <td>147</td>\n",
       "      <td>0.010938</td>\n",
       "      <td>0.568504</td>\n",
       "      <td>0.007119</td>\n",
       "      <td>0.650828</td>\n",
       "      <td>0.144808</td>\n",
       "    </tr>\n",
       "    <tr>\n",
       "      <th>2</th>\n",
       "      <td>576c689af2d255082991e74f</td>\n",
       "      <td>80226</td>\n",
       "      <td>284</td>\n",
       "      <td>829</td>\n",
       "      <td>4</td>\n",
       "      <td>9721</td>\n",
       "      <td>63</td>\n",
       "      <td>418</td>\n",
       "      <td>131754</td>\n",
       "      <td>0.003173</td>\n",
       "      <td>3.547847</td>\n",
       "      <td>367</td>\n",
       "      <td>22</td>\n",
       "      <td>0.003867</td>\n",
       "      <td>0.670168</td>\n",
       "      <td>0.002538</td>\n",
       "      <td>0.656401</td>\n",
       "      <td>-0.020543</td>\n",
       "    </tr>\n",
       "    <tr>\n",
       "      <th>3</th>\n",
       "      <td>577a4a113b54999e73e78d80</td>\n",
       "      <td>83392</td>\n",
       "      <td>59</td>\n",
       "      <td>105865</td>\n",
       "      <td>61</td>\n",
       "      <td>3754</td>\n",
       "      <td>4</td>\n",
       "      <td>159</td>\n",
       "      <td>473923</td>\n",
       "      <td>0.000335</td>\n",
       "      <td>1.308176</td>\n",
       "      <td>67</td>\n",
       "      <td>17</td>\n",
       "      <td>0.000642</td>\n",
       "      <td>0.508533</td>\n",
       "      <td>0.000337</td>\n",
       "      <td>0.524831</td>\n",
       "      <td>0.032049</td>\n",
       "    </tr>\n",
       "    <tr>\n",
       "      <th>4</th>\n",
       "      <td>577acafca7fa3d7962219044</td>\n",
       "      <td>27659</td>\n",
       "      <td>117</td>\n",
       "      <td>2598</td>\n",
       "      <td>1</td>\n",
       "      <td>4756</td>\n",
       "      <td>21</td>\n",
       "      <td>189</td>\n",
       "      <td>62065</td>\n",
       "      <td>0.003045</td>\n",
       "      <td>3.333333</td>\n",
       "      <td>154</td>\n",
       "      <td>12</td>\n",
       "      <td>0.003970</td>\n",
       "      <td>0.643596</td>\n",
       "      <td>0.002632</td>\n",
       "      <td>0.662893</td>\n",
       "      <td>0.029983</td>\n",
       "    </tr>\n",
       "  </tbody>\n",
       "</table>\n",
       "</div>"
      ],
      "text/plain": [
       "                  survey_id  n_Cr_views  n_Cr_resp  n_IE_views  n_IE_resp  \\\n",
       "0  56eb4ca59399e8047fc6592d       18344       1100        1211         30   \n",
       "1  573b111eeb657163742cac78       26991        416       15040         28   \n",
       "2  576c689af2d255082991e74f       80226        284         829          4   \n",
       "3  577a4a113b54999e73e78d80       83392         59      105865         61   \n",
       "4  577acafca7fa3d7962219044       27659        117        2598          1   \n",
       "\n",
       "   n_FF_views  n_FF_resp  n_responses  n_views  response_rate  avg_response  \\\n",
       "0        4652       1454         3850   194827       0.019761      0.562857   \n",
       "1        4686         67         1227   255734       0.004798      1.979625   \n",
       "2        9721         63          418   131754       0.003173      3.547847   \n",
       "3        3754          4          159   473923       0.000335      1.308176   \n",
       "4        4756         21          189    62065       0.003045      3.333333   \n",
       "\n",
       "   n_positive  n_negative       P_R       P_U     P_UiR     P_UgR  \\\n",
       "0        1966        1405  0.106746  0.641413  0.062703  0.587403   \n",
       "1         814         147  0.010938  0.568504  0.007119  0.650828   \n",
       "2         367          22  0.003867  0.670168  0.002538  0.656401   \n",
       "3          67          17  0.000642  0.508533  0.000337  0.524831   \n",
       "4         154          12  0.003970  0.643596  0.002632  0.662893   \n",
       "\n",
       "   age18to44_represent_ratio  \n",
       "0                  -0.084205  \n",
       "1                   0.144808  \n",
       "2                  -0.020543  \n",
       "3                   0.032049  \n",
       "4                   0.029983  "
      ]
     },
     "execution_count": 150,
     "metadata": {},
     "output_type": "execute_result"
    }
   ],
   "source": [
    "rspByBrw_df.head()"
   ]
  },
  {
   "cell_type": "code",
   "execution_count": 143,
   "metadata": {
    "collapsed": false
   },
   "outputs": [
    {
     "data": {
      "text/plain": [
       "<matplotlib.text.Text at 0x7fa310a22690>"
      ]
     },
     "execution_count": 143,
     "metadata": {},
     "output_type": "execute_result"
    },
    {
     "data": {
      "text/plain": [
       "<matplotlib.figure.Figure at 0x7fa310a5c810>"
      ]
     },
     "metadata": {},
     "output_type": "display_data"
    },
    {
     "data": {
      "image/png": "[encoded data removed]",
      "text/plain": [
       "<matplotlib.figure.Figure at 0x7fa310a5c790>"
      ]
     },
     "metadata": {},
     "output_type": "display_data"
    }
   ],
   "source": [
    "plt.figure(figsize = (10, 8))\n",
    "p = rspByBrw_df.plot.scatter(x = 'P_U', y = 'response_rate', \n",
    "                        title = 'Response rate as a function of fraction of survey viewers aged 18-44',\n",
    "                        ylim=(-0.001, 0.025), color='DarkBlue', s = 60, figsize = (10, 8))\n",
    "p.set_xlabel(\"Inferred fraction of survey page viewers age 18-44\")\n",
    "p.set_ylabel(\"Survey response rate\")"
   ]
  },
  {
   "cell_type": "code",
   "execution_count": 155,
   "metadata": {
    "collapsed": true
   },
   "outputs": [],
   "source": [
    "def minSamp_prop(df,m,z,ps_1):\n",
    "    \n",
    "    num = (z**2)/(m**2)*(ps_1*(1-ps_1))\n",
    "    return np.ceil(num/(1.+num/df['n_views'])).astype(int)"
   ]
  },
  {
   "cell_type": "code",
   "execution_count": 158,
   "metadata": {
    "collapsed": true
   },
   "outputs": [],
   "source": [
    "rspByBrw_df['minSample_90'] = minSamp_prop(responses_df,0.05,1.654,0.5)"
   ]
  },
  {
   "cell_type": "code",
   "execution_count": 172,
   "metadata": {
    "collapsed": true
   },
   "outputs": [],
   "source": [
    "rspByBrw_fltrd_df = rspByBrw_df[rspByBrw_df['n_responses']>=rspByBrw_df['minSample_90']]"
   ]
  },
  {
   "cell_type": "code",
   "execution_count": 173,
   "metadata": {
    "collapsed": true
   },
   "outputs": [],
   "source": [
    "rspByBrw_fltrd_df = rspByBrw_fltrd_df.set_index('survey_id')"
   ]
  },
  {
   "cell_type": "code",
   "execution_count": 174,
   "metadata": {
    "collapsed": false
   },
   "outputs": [
    {
     "data": {
      "text/plain": [
       "0.03838429522051888"
      ]
     },
     "execution_count": 174,
     "metadata": {},
     "output_type": "execute_result"
    }
   ],
   "source": [
    "rspByBrw_fltrd_df['age18to44_represent_ratio'].mean()"
   ]
  },
  {
   "cell_type": "code",
   "execution_count": 175,
   "metadata": {
    "collapsed": false
   },
   "outputs": [
    {
     "data": {
      "text/plain": [
       "<matplotlib.text.Text at 0x7fa30f4f54d0>"
      ]
     },
     "execution_count": 175,
     "metadata": {},
     "output_type": "execute_result"
    },
    {
     "data": {
      "image/png": "[encoded data removed]",
      "text/plain": [
       "<matplotlib.figure.Figure at 0x7fa3101d4bd0>"
      ]
     },
     "metadata": {},
     "output_type": "display_data"
    }
   ],
   "source": [
    "barPlot_df = rspByBrw_fltrd_df.reindex(rspByBrw_fltrd_df['age18to44_represent_ratio'].abs().sort_values(ascending=False).index)['age18to44_represent_ratio'].head()\n",
    "plt.figure();\n",
    "p = barPlot_df.plot(kind='bar',title='Over- or Under-representation ratio of survey responders \\n aged 18-44 relative to survey viewers, top 5 surveys by absolute value')\n",
    "p.set_ylabel(\"Representation ratio\")"
   ]
  },
  {
   "cell_type": "code",
   "execution_count": 183,
   "metadata": {
    "collapsed": true
   },
   "outputs": [],
   "source": [
    "query = \"\"\"SELECT survey_id, \n",
    "    SUM(CASE WHEN browser == 'Chrome' THEN 1 ELSE 0 END) AS n_Cr_resp,\n",
    "    SUM(CASE WHEN browser == 'Chrome' AND response >0 THEN 1 ELSE 0 END) AS n_Cr_pos,\n",
    "    SUM(CASE WHEN browser == 'Firefox' THEN 1 ELSE 0 END) AS n_FF_resp,\n",
    "    SUM(CASE WHEN browser == 'Firefox' AND response >0 THEN 1 ELSE 0 END) AS n_FF_pos,\n",
    "    SUM(CASE WHEN browser == 'IE' THEN 1 ELSE 0 END) AS n_IE_resp,\n",
    "    SUM(CASE WHEN browser == 'IE' AND response >0 THEN 1 ELSE 0 END) AS n_IE_pos\n",
    "FROM responses\n",
    "WHERE device = 'desktop'\n",
    "GROUP BY survey_id\"\"\"\n",
    "\n",
    "posByBrw_df = pd.read_sql(query, conn)"
   ]
  },
  {
   "cell_type": "code",
   "execution_count": 184,
   "metadata": {
    "collapsed": true
   },
   "outputs": [],
   "source": [
    "posByBrw_df = posByBrw_df.merge(responses_df, left_on='survey_id', right_on='survey_id', how='inner')"
   ]
  },
  {
   "cell_type": "code",
   "execution_count": 185,
   "metadata": {
    "collapsed": false
   },
   "outputs": [],
   "source": [
    "posByBrw_df['P_UiL'] = (posByBrw_df['n_Cr_pos']*P_Cr+posByBrw_df['n_FF_pos']*P_FF+posByBrw_df['n_IE_pos']*P_IE)/\\\n",
    "                        (posByBrw_df['n_Cr_resp']+posByBrw_df['n_FF_resp']+posByBrw_df['n_IE_resp'])\n",
    "posByBrw_df['P_U'] = (posByBrw_df['n_Cr_resp']*P_Cr+posByBrw_df['n_FF_resp']*P_FF+posByBrw_df['n_IE_resp']*P_IE)/\\\n",
    "                        (posByBrw_df['n_Cr_resp']+posByBrw_df['n_FF_resp']+posByBrw_df['n_IE_resp'])\n",
    "posByBrw_df['P_LgU'] = posByBrw_df['P_UiL']/posByBrw_df['P_U']\n",
    "posByBrw_df['P_L'] = (posByBrw_df['n_Cr_pos']+posByBrw_df['n_FF_pos']+posByBrw_df['n_IE_pos'])/\\\n",
    "                        (posByBrw_df['n_Cr_resp']+posByBrw_df['n_FF_resp']+posByBrw_df['n_IE_resp'])\n",
    "posByBrw_df['P_UgL'] = posByBrw_df['P_UiL']/posByBrw_df['P_L']\n",
    "posByBrw_df['age18to44_represent_ratio'] = (posByBrw_df['P_LgU']-posByBrw_df['P_L'])/posByBrw_df['P_L']"
   ]
  },
  {
   "cell_type": "code",
   "execution_count": 191,
   "metadata": {
    "collapsed": true
   },
   "outputs": [],
   "source": [
    "posByBrw_df['minSample_90'] = minSamp_prop(posByBrw_df,0.05,1.654,0.5)\n",
    "posByBrw_fltrd_df = posByBrw_df[posByBrw_df['n_responses']>=posByBrw_df['minSample_90']]\n",
    "posByBrw_fltrd_df = posByBrw_fltrd_df.set_index('survey_id')"
   ]
  },
  {
   "cell_type": "code",
   "execution_count": 193,
   "metadata": {
    "collapsed": false
   },
   "outputs": [
    {
     "data": {
      "text/plain": [
       "0.013436475750750418"
      ]
     },
     "execution_count": 193,
     "metadata": {},
     "output_type": "execute_result"
    }
   ],
   "source": [
    "posByBrw_fltrd_df['age18to44_represent_ratio'].mean()"
   ]
  },
  {
   "cell_type": "code",
   "execution_count": 194,
   "metadata": {
    "collapsed": false
   },
   "outputs": [
    {
     "data": {
      "text/plain": [
       "<matplotlib.text.Text at 0x7fa30e246e90>"
      ]
     },
     "execution_count": 194,
     "metadata": {},
     "output_type": "execute_result"
    },
    {
     "data": {
      "image/png": "[encoded data removed]",
      "text/plain": [
       "<matplotlib.figure.Figure at 0x7fa30f5c40d0>"
      ]
     },
     "metadata": {},
     "output_type": "display_data"
    }
   ],
   "source": [
    "barPlot_df = posByBrw_fltrd_df.reindex(posByBrw_fltrd_df['age18to44_represent_ratio'].abs().sort_values(ascending=False).index)['age18to44_represent_ratio'].head()\n",
    "plt.figure();\n",
    "p = barPlot_df.plot(kind='bar',title='Over- or Under-representation rate of survey responders \\n aged 18-44 relative to survey viewers, top 5 surveys by absolute value')\n",
    "p.set_ylabel(\"Positive response rate\")"
   ]
  },
  {
   "cell_type": "code",
   "execution_count": 197,
   "metadata": {
    "collapsed": false
   },
   "outputs": [
    {
     "name": "stdout",
     "output_type": "stream",
     "text": [
      "Done.\n"
     ]
    },
    {
     "data": {
      "text/html": [
       "<table>\n",
       "    <tr>\n",
       "        <th>country</th>\n",
       "        <th>percent_views</th>\n",
       "        <th>percent_responses</th>\n",
       "    </tr>\n",
       "    <tr>\n",
       "        <td>US</td>\n",
       "        <td>29.6914296975</td>\n",
       "        <td>52.0096560048</td>\n",
       "    </tr>\n",
       "    <tr>\n",
       "        <td>CN</td>\n",
       "        <td>27.6139113115</td>\n",
       "        <td>3.49426674713</td>\n",
       "    </tr>\n",
       "    <tr>\n",
       "        <td>GB</td>\n",
       "        <td>14.3434806987</td>\n",
       "        <td>11.8768859384</td>\n",
       "    </tr>\n",
       "    <tr>\n",
       "        <td>BR</td>\n",
       "        <td>3.14784088412</td>\n",
       "        <td>4.05552202776</td>\n",
       "    </tr>\n",
       "    <tr>\n",
       "        <td>ID</td>\n",
       "        <td>3.11154691903</td>\n",
       "        <td>0.156910078455</td>\n",
       "    </tr>\n",
       "    <tr>\n",
       "        <td>CA</td>\n",
       "        <td>2.77934377306</td>\n",
       "        <td>4.68316234158</td>\n",
       "    </tr>\n",
       "    <tr>\n",
       "        <td>FR</td>\n",
       "        <td>2.54512921862</td>\n",
       "        <td>1.33373566687</td>\n",
       "    </tr>\n",
       "    <tr>\n",
       "        <td>VN</td>\n",
       "        <td>2.33336612121</td>\n",
       "        <td>1.70187085094</td>\n",
       "    </tr>\n",
       "    <tr>\n",
       "        <td>ES</td>\n",
       "        <td>1.78653591065</td>\n",
       "        <td>1.69583584792</td>\n",
       "    </tr>\n",
       "    <tr>\n",
       "        <td>AU</td>\n",
       "        <td>1.73764389943</td>\n",
       "        <td>1.40615570308</td>\n",
       "    </tr>\n",
       "</table>"
      ],
      "text/plain": [
       "[(u'US', 29.691429697532676, 52.009656004828),\n",
       " (u'CN', 27.61391131146001, 3.4942667471333735),\n",
       " (u'GB', 14.343480698651156, 11.87688593844297),\n",
       " (u'BR', 3.1478408841203076, 4.055522027761014),\n",
       " (u'ID', 3.1115469190276355, 0.15691007845503924),\n",
       " (u'CA', 2.779343773061968, 4.683162341581171),\n",
       " (u'FR', 2.5451292186194006, 1.3337356668678335),\n",
       " (u'VN', 2.333366121211615, 1.7018708509354254),\n",
       " (u'ES', 1.7865359106537704, 1.6958358479179239),\n",
       " (u'AU', 1.7376438994345198, 1.4061557030778515)]"
      ]
     },
     "execution_count": 197,
     "metadata": {},
     "output_type": "execute_result"
    }
   ],
   "source": [
    "%%sql\n",
    "SELECT country, 100.*COUNT(DISTINCT(view_id))/(SELECT COUNT(view_id) FROM knotch) AS percent_views,\n",
    "    100.*SUM(CASE WHEN response IS NOT NULL THEN 1 ELSE 0 END)/(SELECT COUNT(view_id) FROM responses) AS percent_responses\n",
    "FROM knotch\n",
    "GROUP BY country\n",
    "ORDER BY percent_views DESC\n",
    "LIMIT 10;"
   ]
  },
  {
   "cell_type": "code",
   "execution_count": 265,
   "metadata": {
    "collapsed": false
   },
   "outputs": [],
   "source": [
    "query_os = \"\"\"SELECT os AS feature, 'os' AS feature_type, COUNT(view_id) AS n_views_WW, \n",
    "    SUM(CASE WHEN response IS NOT NULL THEN 1 ELSE 0 END) AS n_responses_WW,\n",
    "    SUM(CASE WHEN country = 'CN' THEN 1 ELSE 0 END) AS n_views_CN,\n",
    "    SUM(CASE WHEN country = 'CN' AND response IS NOT NULL THEN 1 ELSE 0 END) AS n_responses_CN\n",
    "FROM knotch\n",
    "GROUP BY os\n",
    "ORDER BY n_views_WW DESC\n",
    "LIMIT 4;\"\"\"\n",
    "\n",
    "query_dev = \"\"\"SELECT device AS feature, 'device' AS feature_type, COUNT(view_id) AS n_views_WW, \n",
    "    SUM(CASE WHEN response IS NOT NULL THEN 1 ELSE 0 END) AS n_responses_WW,\n",
    "    SUM(CASE WHEN country = 'CN' THEN 1 ELSE 0 END) AS n_views_CN,\n",
    "    SUM(CASE WHEN country = 'CN' AND response IS NOT NULL THEN 1 ELSE 0 END) AS n_responses_CN\n",
    "FROM knotch\n",
    "GROUP BY device\n",
    "ORDER BY n_views_WW DESC\n",
    "LIMIT 3;\"\"\"\n",
    "\n",
    "query_brw = \"\"\"SELECT browser AS feature, 'browser' AS feature_type, COUNT(view_id) AS n_views_WW, \n",
    "    SUM(CASE WHEN response IS NOT NULL THEN 1 ELSE 0 END) AS n_responses_WW,\n",
    "    SUM(CASE WHEN country = 'CN' THEN 1 ELSE 0 END) AS n_views_CN,\n",
    "    SUM(CASE WHEN country = 'CN' AND response IS NOT NULL THEN 1 ELSE 0 END) AS n_responses_CN\n",
    "FROM knotch\n",
    "GROUP BY browser\n",
    "ORDER BY n_views_WW DESC\n",
    "LIMIT 10;\"\"\"\n",
    "\n",
    "os_df = pd.read_sql(query_os, conn)\n",
    "dev_df = pd.read_sql(query_dev, conn)\n",
    "brw_df = pd.read_sql(query_brw, conn)"
   ]
  },
  {
   "cell_type": "code",
   "execution_count": 368,
   "metadata": {
    "collapsed": false
   },
   "outputs": [],
   "source": [
    "WWvsCN_df = pd.concat([os_df,dev_df,brw_df])\n",
    "WWvsCN_df['rate_WW'] = WWvsCN_df['n_responses_WW']/WWvsCN_df['n_views_WW']\n",
    "WWvsCN_df['rate_CN'] = WWvsCN_df['n_responses_CN']/WWvsCN_df['n_views_CN']"
   ]
  },
  {
   "cell_type": "code",
   "execution_count": 369,
   "metadata": {
    "collapsed": false
   },
   "outputs": [],
   "source": [
    "WWvsCN_df = WWvsCN_df[WWvsCN_df['rate_CN']!=0]\n",
    "WWvsCN_df = WWvsCN_df.reset_index()"
   ]
  },
  {
   "cell_type": "code",
   "execution_count": 370,
   "metadata": {
    "collapsed": false
   },
   "outputs": [],
   "source": [
    "def func(df):\n",
    "    df['weighted_rate_WW'] = df['rate_WW']*(df['n_views_WW']/df['n_views_WW'].sum())\n",
    "    df['weighted_rate_CN'] = df['rate_CN']*(df['n_views_CN']/df['n_views_CN'].sum())\n",
    "    return df\n",
    "\n",
    "WWvsCN_df = WWvsCN_df.groupby('feature_type').apply(func) \n",
    "WWvsCN_df['weighted_rate_ratio'] = WWvsCN_df['weighted_rate_WW']/WWvsCN_df['weighted_rate_CN']\n",
    "WWvsCN_df.drop('index', axis = 1, inplace = True)\n",
    "WWvsCN_df = WWvsCN_df.set_index('feature')"
   ]
  },
  {
   "cell_type": "code",
   "execution_count": 371,
   "metadata": {
    "collapsed": false
   },
   "outputs": [
    {
     "data": {
      "text/plain": [
       "feature\n",
       "Mac OS     72.341798\n",
       "iOS        23.291342\n",
       "Android    15.979026\n",
       "Windows     4.785205\n",
       "Name: weighted_rate_ratio, dtype: float64"
      ]
     },
     "execution_count": 371,
     "metadata": {},
     "output_type": "execute_result"
    }
   ],
   "source": [
    "WWvsCN_df.groupby('feature_type').get_group('os').sort_values('weighted_rate_ratio',ascending = False).head()['weighted_rate_ratio']"
   ]
  },
  {
   "cell_type": "code",
   "execution_count": 372,
   "metadata": {
    "collapsed": false
   },
   "outputs": [
    {
     "data": {
      "text/plain": [
       "feature\n",
       "tablet     254.347140\n",
       "mobile      14.023464\n",
       "desktop      6.290215\n",
       "Name: weighted_rate_ratio, dtype: float64"
      ]
     },
     "execution_count": 372,
     "metadata": {},
     "output_type": "execute_result"
    }
   ],
   "source": [
    "WWvsCN_df.groupby('feature_type').get_group('device').sort_values('weighted_rate_ratio',ascending = False).head()['weighted_rate_ratio']"
   ]
  },
  {
   "cell_type": "code",
   "execution_count": 373,
   "metadata": {
    "collapsed": false
   },
   "outputs": [
    {
     "data": {
      "text/plain": [
       "feature\n",
       "Safari             73.851614\n",
       "Firefox            44.291414\n",
       "Android Browser    18.893107\n",
       "Chrome              9.654475\n",
       "Edge                6.737384\n",
       "WebKit              2.560736\n",
       "IE                  1.267667\n",
       "Name: weighted_rate_ratio, dtype: float64"
      ]
     },
     "execution_count": 373,
     "metadata": {},
     "output_type": "execute_result"
    }
   ],
   "source": [
    "WWvsCN_df.groupby('feature_type').get_group('browser').sort_values('weighted_rate_ratio',ascending = False).head(10)['weighted_rate_ratio']"
   ]
  }
 ],
 "metadata": {
  "kernelspec": {
   "display_name": "Python 2",
   "language": "python",
   "name": "python2"
  },
  "language_info": {
   "codemirror_mode": {
    "name": "ipython",
    "version": 2
   },
   "file_extension": ".py",
   "mimetype": "text/x-python",
   "name": "python",
   "nbconvert_exporter": "python",
   "pygments_lexer": "ipython2",
   "version": "2.7.13"
  }
 },
 "nbformat": 4,
 "nbformat_minor": 0
}
